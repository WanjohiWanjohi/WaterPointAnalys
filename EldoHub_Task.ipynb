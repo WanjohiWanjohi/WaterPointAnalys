{
  "nbformat": 4,
  "nbformat_minor": 0,
  "metadata": {
    "colab": {
      "name": "EldoHub Task.ipynb",
      "provenance": [],
      "authorship_tag": "ABX9TyPtv/5PpVDBmLP9yrgq6J+4",
      "include_colab_link": true
    },
    "kernelspec": {
      "name": "python3",
      "display_name": "Python 3"
    }
  },
  "cells": [
    {
      "cell_type": "markdown",
      "metadata": {
        "id": "view-in-github",
        "colab_type": "text"
      },
      "source": [
        "<a href=\"https://colab.research.google.com/github/WanjohiWanjohi/WaterPointAnalys/blob/main/EldoHub_Task.ipynb\" target=\"_parent\"><img src=\"https://colab.research.google.com/assets/colab-badge.svg\" alt=\"Open In Colab\"/></a>"
      ]
    },
    {
      "cell_type": "code",
      "metadata": {
        "id": "4CCVNDHHDVvB"
      },
      "source": [
        "#import tools to use \r\n",
        "import pandas as pd\r\n",
        "import requests\r\n",
        "import numpy as np"
      ],
      "execution_count": 56,
      "outputs": []
    },
    {
      "cell_type": "code",
      "metadata": {
        "id": "JFyW7LFgUJEG"
      },
      "source": [
        "def waterpoints(url):\r\n",
        "  f=requests.get(url)\r\n",
        "  json_output = f.json()\r\n",
        "  df= pd.DataFrame(json_output,columns=['water_pay' , 'respondent' , 'research_asst_name' , 'water_used_season' , '_bamboo_dataset_id' , '_deleted_at' , 'water_point_condition' , '_xform_id_string' , 'other_point_1km' , '_attachments', 'communities_villages', 'end' , 'animal_number' , 'water_point_id' , 'start' , 'water_connected' , 'water_manager_name' , '_status' , 'enum_id_1' , 'water_lift_mechanism' , 'districts_divisions' , 'uuid' , 'grid' , 'date' , 'formhub/uuid' , 'road_available' , 'water_functioning' , '_submission_time' , 'signal' , 'water_source_type', '_geolocation' , 'water_point_image' , 'water_point_geocode' , 'deviceid' , 'locations_wards' , 'water_manager' , 'water_developer' , '_id' , 'animal_point'])\r\n",
        "  number_functional = len(df[df['water_point_condition'].str.contains('functioning')])\r\n",
        "  number_water_points = df['communities_villages'].value_counts()\r\n",
        "  #number of water points in different conditions\r\n",
        "\r\n",
        "  water_points = df.groupby(['communities_villages', 'water_point_condition']).size().reset_index(name='counts')\r\n",
        "\r\n",
        "  #number of broken water points\r\n",
        "\r\n",
        "  num_broken_water_points = water_points[water_points['water_point_condition'].str.contains('broken')]\r\n",
        "  \r\n",
        "  # all water points grouped by the communities\r\n",
        "\r\n",
        "  total_water_points =  water_points.groupby(['communities_villages']).sum().reset_index()\r\n",
        "  \r\n",
        "  #merge total water_points and num_broken_points\r\n",
        "\r\n",
        "  merged_df =  pd.merge(num_broken_water_points,total_water_points , on=['communities_villages'])\r\n",
        "  \r\n",
        "  #get precentage\r\n",
        "  \r\n",
        "  merged_df['percent broken'] = merged_df['counts_x']/merged_df['counts_y'] *100\r\n",
        "  merged_df['rank'] = merged_df['percent broken'].rank(ascending=True , method='first')\r\n",
        "  merged_df.drop(['water_point_condition' , 'counts_x' , 'counts_y' , 'percent broken'] , axis=1 , inplace=True)\r\n",
        "  merged_df.sort_values(by='rank', inplace=True)\r\n",
        "  return {'number_functional':number_functional , 'number_water_points':number_water_points.to_dict() , 'community_ranking':merged_df}\r\n",
        "  "
      ],
      "execution_count": 155,
      "outputs": []
    },
    {
      "cell_type": "code",
      "metadata": {
        "colab": {
          "base_uri": "https://localhost:8080/"
        },
        "id": "7MdKwr62zJ8G",
        "outputId": "617239de-7483-443d-b020-ea15550263ad"
      },
      "source": [
        "waterpoints(url='https://raw.githubusercontent.com/onaio/ona-tech/master/data/water_points.json')"
      ],
      "execution_count": 156,
      "outputs": [
        {
          "output_type": "execute_result",
          "data": {
            "text/plain": [
              "{'community_ranking':    communities_villages  rank\n",
              " 8             Kpatarigu   1.0\n",
              " 5                 Jagsa   2.0\n",
              " 4                 Guuta   3.0\n",
              " 6                 Kaasa   4.0\n",
              " 17              Tantala   5.0\n",
              " 2             Banyangsa   6.0\n",
              " 7              Kanwaasa   7.0\n",
              " 11               Longsa   8.0\n",
              " 12                Luisa   9.0\n",
              " 15          Nyankpiensa  10.0\n",
              " 0                 Arigu  11.0\n",
              " 20                Zogsa  12.0\n",
              " 21              Zukpeni  13.0\n",
              " 14               Nayoku  14.0\n",
              " 19              Zanwara  15.0\n",
              " 9                Kubore  16.0\n",
              " 10            Loagri_1_  17.0\n",
              " 13            Namgurima  18.0\n",
              " 1                Bandem  19.0\n",
              " 16                  Soo  20.0\n",
              " 3              Gbaarigu  21.0\n",
              " 18              Vundema  22.0,\n",
              " 'number_functional': 590,\n",
              " 'number_water_points': {'Abanyeri': 4,\n",
              "  'Akpari-yeri': 3,\n",
              "  'Alavanyo': 3,\n",
              "  'Arigu': 12,\n",
              "  'Badomsa': 27,\n",
              "  'Bandem': 7,\n",
              "  'Banyangsa': 10,\n",
              "  'Bechinsa': 26,\n",
              "  'Chanpolinsa': 4,\n",
              "  'Chansa': 9,\n",
              "  'Chondema': 4,\n",
              "  'Dibisi': 2,\n",
              "  'Dorinsa': 17,\n",
              "  'Fiisa': 5,\n",
              "  'Gaadem': 2,\n",
              "  'Garigu': 1,\n",
              "  'Gbaarigu': 5,\n",
              "  'Gbima': 3,\n",
              "  'Gumaryili': 1,\n",
              "  'Guuta': 32,\n",
              "  'Guuta-Nasa': 11,\n",
              "  'Jaata': 8,\n",
              "  'Jagsa': 38,\n",
              "  'Jiniensa': 1,\n",
              "  'Jiningsa': 7,\n",
              "  'Jiningsa-Yipaala': 3,\n",
              "  'Jiriwiensa': 8,\n",
              "  'Kaasa': 25,\n",
              "  'Kalaasa': 1,\n",
              "  'Kanbangsa': 8,\n",
              "  'Kanwaasa': 9,\n",
              "  'Kom': 6,\n",
              "  'Kpatarigu': 51,\n",
              "  'Kpikpaluk': 3,\n",
              "  'Kubore': 18,\n",
              "  'Kulbugu': 11,\n",
              "  'Kunkwah': 3,\n",
              "  'Kurugu': 9,\n",
              "  'Loagri_1_': 18,\n",
              "  'Logvasgsa': 4,\n",
              "  'Longsa': 9,\n",
              "  'Luisa': 8,\n",
              "  'Mwalorinsa': 8,\n",
              "  'Nabulugu': 31,\n",
              "  'Namgurima': 8,\n",
              "  'Nawaasa': 6,\n",
              "  'Nayoku': 35,\n",
              "  'Nyandema': 3,\n",
              "  'Nyankpiensa': 8,\n",
              "  'Piisa': 5,\n",
              "  'Selinvoya': 13,\n",
              "  'Sikabsa': 3,\n",
              "  'Soo': 7,\n",
              "  'Suik': 1,\n",
              "  'Tankangsa': 6,\n",
              "  'Tantala': 22,\n",
              "  'Tuisa': 4,\n",
              "  'Vundema': 5,\n",
              "  'Zangu-Vuga': 13,\n",
              "  'Zanwara': 10,\n",
              "  'Zogsa': 6,\n",
              "  'Zua': 28,\n",
              "  'Zuedema': 18,\n",
              "  'Zukpeni': 6,\n",
              "  'Zundem': 30}}"
            ]
          },
          "metadata": {
            "tags": []
          },
          "execution_count": 156
        }
      ]
    }
  ]
}