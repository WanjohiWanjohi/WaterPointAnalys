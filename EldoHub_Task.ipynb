{
  "nbformat": 4,
  "nbformat_minor": 0,
  "metadata": {
    "colab": {
      "name": "EldoHub Task.ipynb",
      "provenance": [],
      "authorship_tag": "ABX9TyMk/djEYe9vlMVg4zdIpIuR",
      "include_colab_link": true
    },
    "kernelspec": {
      "name": "python3",
      "display_name": "Python 3"
    }
  },
  "cells": [
    {
      "cell_type": "markdown",
      "metadata": {
        "id": "view-in-github",
        "colab_type": "text"
      },
      "source": [
        "<a href=\"https://colab.research.google.com/github/WanjohiWanjohi/WaterPointAnalys/blob/main/EldoHub_Task.ipynb\" target=\"_parent\"><img src=\"https://colab.research.google.com/assets/colab-badge.svg\" alt=\"Open In Colab\"/></a>"
      ]
    },
    {
      "cell_type": "code",
      "metadata": {
        "id": "4CCVNDHHDVvB"
      },
      "source": [
        "#import tools to use \r\n",
        "import pandas as pd\r\n",
        "import requests\r\n",
        "\r\n"
      ],
      "execution_count": 1,
      "outputs": []
    },
    {
      "cell_type": "code",
      "metadata": {
        "id": "JFyW7LFgUJEG"
      },
      "source": [
        "def waterpoints(url):\r\n",
        "  f=requests.get(url)\r\n",
        "  json_output = f.json()\r\n",
        "  df= pd.DataFrame(json_output,columns=['water_pay' , 'respondent' , 'research_asst_name' , 'water_used_season' , '_bamboo_dataset_id' , '_deleted_at' , 'water_point_condition' , '_xform_id_string' , 'other_point_1km' , '_attachments', 'communities_villages', 'end' , 'animal_number' , 'water_point_id' , 'start' , 'water_connected' , 'water_manager_name' , '_status' , 'enum_id_1' , 'water_lift_mechanism' , 'districts_divisions' , 'uuid' , 'grid' , 'date' , 'formhub/uuid' , 'road_available' , 'water_functioning' , '_submission_time' , 'signal' , 'water_source_type', '_geolocation' , 'water_point_image' , 'water_point_geocode' , 'deviceid' , 'locations_wards' , 'water_manager' , 'water_developer' , '_id' , 'animal_point'])\r\n",
        "  number_functional = len(df[df['water_point_condition'].str.contains('functioning')])\r\n",
        "  number_water_points = df['communities_villages'].value_counts()\r\n",
        "  #number of water points in different conditions\r\n",
        "  water_points = df.groupby(['communities_villages', 'water_point_condition']).size().reset_index(name='counts')\r\n",
        "  #number of broken water points\r\n",
        "  num_broken_water_points = water_points[water_points['water_point_condition'].str.contains('broken')]\r\n",
        "  # number with no broken water points\r\n",
        "  num_broken_water_points['rank'] = num_broken_water_points['counts'].rank(pct=True)\r\n",
        "  num_broken_water_points.drop(['water_point_condition' , 'counts'] , axis=1 , inplace=True)\r\n",
        "  return {'number_functional':number_functional , 'number_water_points':number_water_points.to_dict() , 'community_ranking':num_broken_water_points}\r\n",
        "  "
      ],
      "execution_count": 39,
      "outputs": []
    },
    {
      "cell_type": "code",
      "metadata": {
        "colab": {
          "base_uri": "https://localhost:8080/"
        },
        "id": "7MdKwr62zJ8G",
        "outputId": "28450cf9-0c74-4ea9-c060-8316038a8cb0"
      },
      "source": [
        "waterpoints(url='https://raw.githubusercontent.com/onaio/ona-tech/master/data/water_points.json')"
      ],
      "execution_count": 40,
      "outputs": [
        {
          "output_type": "stream",
          "text": [
            "/usr/local/lib/python3.6/dist-packages/ipykernel_launcher.py:12: SettingWithCopyWarning: \n",
            "A value is trying to be set on a copy of a slice from a DataFrame.\n",
            "Try using .loc[row_indexer,col_indexer] = value instead\n",
            "\n",
            "See the caveats in the documentation: https://pandas.pydata.org/pandas-docs/stable/user_guide/indexing.html#returning-a-view-versus-a-copy\n",
            "  if sys.path[0] == '':\n",
            "/usr/local/lib/python3.6/dist-packages/pandas/core/frame.py:4174: SettingWithCopyWarning: \n",
            "A value is trying to be set on a copy of a slice from a DataFrame\n",
            "\n",
            "See the caveats in the documentation: https://pandas.pydata.org/pandas-docs/stable/user_guide/indexing.html#returning-a-view-versus-a-copy\n",
            "  errors=errors,\n"
          ],
          "name": "stderr"
        },
        {
          "output_type": "execute_result",
          "data": {
            "text/plain": [
              "{'community_ranking':     communities_villages      rank\n",
              " 6                  Arigu  0.727273\n",
              " 10                Bandem  0.727273\n",
              " 13             Banyangsa  0.295455\n",
              " 28              Gbaarigu  0.727273\n",
              " 34                 Guuta  0.295455\n",
              " 39                 Jagsa  0.295455\n",
              " 48                 Kaasa  0.295455\n",
              " 52              Kanwaasa  0.295455\n",
              " 58             Kpatarigu  0.295455\n",
              " 64                Kubore  0.931818\n",
              " 72             Loagri_1_  0.931818\n",
              " 77                Longsa  0.295455\n",
              " 79                 Luisa  0.295455\n",
              " 87             Namgurima  0.727273\n",
              " 90                Nayoku  1.000000\n",
              " 94           Nyankpiensa  0.295455\n",
              " 102                  Soo  0.727273\n",
              " 109              Tantala  0.295455\n",
              " 113              Vundema  0.727273\n",
              " 118              Zanwara  0.727273\n",
              " 121                Zogsa  0.295455\n",
              " 130              Zukpeni  0.295455,\n",
              " 'number_functional': 590,\n",
              " 'number_water_points': {'Abanyeri': 4,\n",
              "  'Akpari-yeri': 3,\n",
              "  'Alavanyo': 3,\n",
              "  'Arigu': 12,\n",
              "  'Badomsa': 27,\n",
              "  'Bandem': 7,\n",
              "  'Banyangsa': 10,\n",
              "  'Bechinsa': 26,\n",
              "  'Chanpolinsa': 4,\n",
              "  'Chansa': 9,\n",
              "  'Chondema': 4,\n",
              "  'Dibisi': 2,\n",
              "  'Dorinsa': 17,\n",
              "  'Fiisa': 5,\n",
              "  'Gaadem': 2,\n",
              "  'Garigu': 1,\n",
              "  'Gbaarigu': 5,\n",
              "  'Gbima': 3,\n",
              "  'Gumaryili': 1,\n",
              "  'Guuta': 32,\n",
              "  'Guuta-Nasa': 11,\n",
              "  'Jaata': 8,\n",
              "  'Jagsa': 38,\n",
              "  'Jiniensa': 1,\n",
              "  'Jiningsa': 7,\n",
              "  'Jiningsa-Yipaala': 3,\n",
              "  'Jiriwiensa': 8,\n",
              "  'Kaasa': 25,\n",
              "  'Kalaasa': 1,\n",
              "  'Kanbangsa': 8,\n",
              "  'Kanwaasa': 9,\n",
              "  'Kom': 6,\n",
              "  'Kpatarigu': 51,\n",
              "  'Kpikpaluk': 3,\n",
              "  'Kubore': 18,\n",
              "  'Kulbugu': 11,\n",
              "  'Kunkwah': 3,\n",
              "  'Kurugu': 9,\n",
              "  'Loagri_1_': 18,\n",
              "  'Logvasgsa': 4,\n",
              "  'Longsa': 9,\n",
              "  'Luisa': 8,\n",
              "  'Mwalorinsa': 8,\n",
              "  'Nabulugu': 31,\n",
              "  'Namgurima': 8,\n",
              "  'Nawaasa': 6,\n",
              "  'Nayoku': 35,\n",
              "  'Nyandema': 3,\n",
              "  'Nyankpiensa': 8,\n",
              "  'Piisa': 5,\n",
              "  'Selinvoya': 13,\n",
              "  'Sikabsa': 3,\n",
              "  'Soo': 7,\n",
              "  'Suik': 1,\n",
              "  'Tankangsa': 6,\n",
              "  'Tantala': 22,\n",
              "  'Tuisa': 4,\n",
              "  'Vundema': 5,\n",
              "  'Zangu-Vuga': 13,\n",
              "  'Zanwara': 10,\n",
              "  'Zogsa': 6,\n",
              "  'Zua': 28,\n",
              "  'Zuedema': 18,\n",
              "  'Zukpeni': 6,\n",
              "  'Zundem': 30}}"
            ]
          },
          "metadata": {
            "tags": []
          },
          "execution_count": 40
        }
      ]
    }
  ]
}